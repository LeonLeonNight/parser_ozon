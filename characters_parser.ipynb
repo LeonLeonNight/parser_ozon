{
 "cells": [
  {
   "cell_type": "code",
   "execution_count": null,
   "metadata": {},
   "outputs": [],
   "source": [
    "import os\n",
    "import json\n",
    "import datetime\n",
    "import csv\n",
    "\n",
    "class value:\n",
    "    text:str\n",
    "    key:str\n",
    "\n",
    "class describe:\n",
    "    key:str\n",
    "    name:str\n",
    "    values:value = []\n",
    "\n",
    "class characteristic:\n",
    "    title:str\n",
    "    short:describe = []\n",
    "\n",
    "class characteristicCsv:\n",
    "    type:str = \"\"\n",
    "    brand:str = \"\"\n",
    "    radius:str = \"\"\n",
    "    Article:str = \"\"\n",
    "    RuleType:str = \"\"\n",
    "    WifFiFrequency:str = \"\"\n",
    "    ConnectionNum:str = \"\"\n",
    "    Time:str = \"\"\n",
    "    RemotePower:str = \"\"\n",
    "    BatteryQty:str = \"\"\n",
    "    RemoteBat:str = \"\"\n",
    "    RemoteBatNum:str = \"\"\n",
    "    Special:str = \"\"\n",
    "    Features:str = \"\"\n",
    "    CapacityAmp:str = \"\"\n",
    "    ResolutionCam:str = \"\"\n",
    "    QualityVideo:str = \"\"\n",
    "    Country:str = \"\"\n",
    "    Color:str = \"\"\n",
    "    Warranty:str = \"\"\n",
    "    Cameras:str = \"\"\n",
    "    FlightRange:str = \"\"\n",
    "\n",
    "d_format =datetime.datetime.strftime(datetime.datetime.utcnow(),'%m-%d-%Y')\n",
    "csvPath= 'C://Users//User//Desktop//py11//py//csv//'\n",
    "charatersPath= 'C://Users//User//Desktop//py11//py//character_kopters//11-18-2022//'\n",
    "charatersFiles = os.listdir(charatersPath)\n",
    "with open(csvPath + 'csv_characters_'+d_format+'.csv', 'w', newline='', encoding='utf-8') as csvfile:\n",
    "        spamwriter = csv.writer(csvfile, delimiter=',')\n",
    "        spamwriter.writerow(['Тип', 'Бренд', 'Радиус действия', 'Артикул', \n",
    "        'Управление моделью', 'Частоты Wi-Fi', 'Число каналов связи',\n",
    "        'Время работы м', 'Питание пульта', 'Количество батареек',\n",
    "        'Типоразмер батареек пульта', 'Количество батареек пульта',\n",
    "        'Специальные возможности', 'Особенности радиоуправляемых моделей',\n",
    "        'Емкость аккумулятора мАч', 'Разрешение камеры', 'Качество видео',\n",
    "        'Страна-изготовитель', 'Цвет', 'Гарантийный срок', 'Камера',\n",
    "        'Дальность полета м'])\n",
    "        for i in charatersFiles:\n",
    "            character = open(charatersPath +i,'r')\n",
    "            character_json = json.load(character)\n",
    "            character_json = json.loads(character_json)\n",
    "            print(i)\n",
    "            if ('webCharacteristics-939965-pdpPage2column-2' in character_json['widgetStates'].keys()):\n",
    "                webCharacteristics = character_json['widgetStates']['webCharacteristics-939965-pdpPage2column-2']\n",
    "                webCharacteristics_json = json.loads(webCharacteristics)\n",
    "                \n",
    "                shorts = webCharacteristics_json['characteristics'][0]['short']\n",
    "                ch = characteristicCsv    \n",
    "                for j in shorts:            \n",
    "                        if j['key'] == 'Type':\n",
    "                            ch.type = ' '.join(o['text'] for o in j['values'])\n",
    "                        if j['key'] == 'Brand':\n",
    "                            ch.brand = ' '.join(o['text'] for o in j['values'])     \n",
    "                        if j['key'] == 'Radius':\n",
    "                            ch.radius =  ' '.join(o['text'] for o in j['values'])        \n",
    "                        if j['key'] == 'Article':\n",
    "                            ch.Article = ' '.join(o['text'] for o in j['values'])     \n",
    "                        if j['key'] == 'RuleType':\n",
    "                            ch.RuleType = ' '.join(o['text'] for o in j['values']) \n",
    "                        if j['key'] == 'WifFiFrequency':\n",
    "                            ch.WifFiFrequency = ' '.join(o['text'] for o in j['values']) \n",
    "                        if j['key'] == 'ConnectionNum':\n",
    "                            ch.ConnectionNum= ' '.join(o['text'] for o in j['values']) \n",
    "                        if j['key'] == 'Time':\n",
    "                            ch.Time =' '.join(o['text'] for o in j['values']) \n",
    "                        if j['key'] == 'RemotePower':\n",
    "                            ch.RemotePower=' '.join(o['text'] for o in j['values']) \n",
    "                        if j['key'] == 'BatteryQty':\n",
    "                            ch.BatteryQty=' '.join(o['text'] for o in j['values']) \n",
    "                        if j['key'] == 'RemoteBat':\n",
    "                            ch.RemoteBat=' '.join(o['text'] for o in j['values']) \n",
    "                        if j['key'] == 'RemoteBatNum':\n",
    "                            ch.RemoteBatNum=' '.join(o['text'] for o in j['values']) \n",
    "                        if j['key'] == 'Special':\n",
    "                            ch.Special=' '.join(o['text'] for o in j['values']) \n",
    "                        if j['key'] == 'Features':\n",
    "                            ch.Features=' '.join(o['text'] for o in j['values']) \n",
    "                        if j['key'] == 'CapacityAmp':\n",
    "                            ch.CapacityAmp=' '.join(o['text'] for o in j['values']) \n",
    "                        if j['key'] == 'ResolutionCam':\n",
    "                            ch.ResolutionCam=' '.join(o['text'] for o in j['values']) \n",
    "                        if j['key'] == 'QualityVideo':\n",
    "                            ch.QualityVideo=' '.join(o['text'] for o in j['values']) \n",
    "                        if j['key'] == 'Country':\n",
    "                            ch.Country=' '.join(o['text'] for o in j['values']) \n",
    "                        if j['key'] == 'Color':\n",
    "                            ch.Color=' '.join(o['text'] for o in j['values']) \n",
    "                        if j['key'] == 'Warranty':\n",
    "                            ch.Warranty=' '.join(o['text'] for o in j['values']) \n",
    "                        if j['key'] == 'Cameras':\n",
    "                            ch.Cameras=' '.join(o['text'] for o in j['values']) \n",
    "                        if j['key'] == 'FlightRange':\n",
    "                            ch.FlightRange=' '.join(o['text'] for o in j['values']) \n",
    "\n",
    "                spamwriter.writerow([ch.type, ch.brand, ch.radius, ch.Article, ch.RuleType, \n",
    "                    ch.WifFiFrequency, ch.ConnectionNum, ch.Time, ch.RemotePower,\n",
    "                    ch.BatteryQty, ch.RemoteBat, ch.RemoteBatNum, ch.Special,\n",
    "                    ch.Features, ch.CapacityAmp, ch.ResolutionCam, ch.QualityVideo,\n",
    "                    ch.Country, ch.Color, ch.Warranty, ch.Cameras, ch.FlightRange])\n",
    "                    \n",
    "        csvfile.close()\n",
    "\n",
    "#d_format =datetime.datetime.strftime(datetime.datetime.utcnow(),'%m-%d-%Y')"
   ]
  },
  {
   "cell_type": "code",
   "execution_count": null,
   "metadata": {},
   "outputs": [],
   "source": [
    "import pandas as pd\n",
    "\n",
    "file_csv = 'C://Users//User//Desktop//py11//py//csv//csv_characters_11-18-2022.csv'\n",
    "df = pd.read_csv(file_csv)\n",
    "print(df['Страна-изготовитель'].unique())\n",
    "print(len(df['Артикул'].unique()))\n",
    "\n",
    "kopteri = df[df['Тип'] == 'Квадрокоптер']\n",
    "print(kopteri['Артикул'].unique())\n",
    "print(kopteri['Бренд'].unique())"
   ]
  },
  {
   "cell_type": "code",
   "execution_count": null,
   "metadata": {},
   "outputs": [],
   "source": [
    "df[['Тип', 'Бренд', 'Радиус действия', 'Артикул', \n",
    "        'Управление моделью', 'Частоты Wi-Fi', 'Число каналов связи',\n",
    "        'Время работы м', 'Количество батареек',\n",
    "        'Типоразмер батареек пульта', 'Специальные возможности', 'Особенности радиоуправляемых моделей',\n",
    "        'Емкость аккумулятора мАч', 'Разрешение камеры', 'Качество видео',\n",
    "        'Страна-изготовитель', 'Камера',\n",
    "        'Дальность полета м']]"
   ]
  },
  {
   "cell_type": "code",
   "execution_count": null,
   "metadata": {},
   "outputs": [],
   "source": [
    "groupByBrand = df.groupby(['Бренд']).agg('count')\n",
    "groupByBrand = groupByBrand[groupByBrand['Тип']>20]\n",
    "groupByBrand['Тип'].plot.bar()"
   ]
  },
  {
   "cell_type": "code",
   "execution_count": null,
   "metadata": {},
   "outputs": [],
   "source": [
    "groupTechCamera2 =df.groupby(['Бренд', 'Радиус действия']).agg('count')\n",
    "groupTechCamera2 = groupTechCamera2[groupTechCamera2['Тип']> 10]\n",
    "#groupTechCamera\n",
    "groupTechCamera2['Тип'].plot.bar()"
   ]
  },
  {
   "cell_type": "code",
   "execution_count": null,
   "metadata": {},
   "outputs": [],
   "source": [
    "groupTechCamera =df.groupby(['Качество видео', 'Разрешение камеры', 'Камера']).agg('count')\n",
    "groupTechCamera = groupTechCamera[groupTechCamera['Тип']> 35]\n",
    "#groupTechCamera\n",
    "groupTechCamera['Тип'].plot(kind='pie')"
   ]
  },
  {
   "cell_type": "code",
   "execution_count": null,
   "metadata": {},
   "outputs": [],
   "source": [
    "groupBrand =df.groupby(['Бренд']).agg('count')\n",
    "groupBrand = groupBrand[groupBrand['Тип']> 15]\n",
    "groupBrand\n",
    "groupBrand['Тип'].plot(kind='pie')"
   ]
  },
  {
   "cell_type": "code",
   "execution_count": null,
   "metadata": {},
   "outputs": [],
   "source": [
    "groupCountry = df.groupby(['Страна-изготовитель']).agg('count')\n",
    "#groupCountry\n",
    "groupCountry['Тип'].plot(kind='pie')"
   ]
  },
  {
   "cell_type": "code",
   "execution_count": null,
   "metadata": {},
   "outputs": [],
   "source": [
    "file_csv_items_18 = 'C://Users//User//Desktop//py11//py//csv//csv_items_11-12-2022.csv'\n",
    "df_items_18 = pd.read_csv(file_csv_items_18)\n",
    "df_items_18\n",
    "groupOtziv18 = df_items_18.groupby(['rating']).agg('count')\n",
    "#groupRaitingOtziv18\n",
    "groupOtziv18 = groupOtziv18[groupOtziv18['name']>12]\n",
    "groupOtziv18['name'].plot(kind='pie')"
   ]
  },
  {
   "cell_type": "code",
   "execution_count": null,
   "metadata": {},
   "outputs": [],
   "source": [
    "groupOtziv18 = df_items_18.groupby(['otziv']).agg('count')\n",
    "#groupRaitingOtziv18\n",
    "groupOtziv18 = groupOtziv18[groupOtziv18['name']>12]\n",
    "groupOtziv18['name'].plot(kind='pie')"
   ]
  }
 ],
 "metadata": {
  "kernelspec": {
   "display_name": "Python 3.9.13 64-bit (microsoft store)",
   "language": "python",
   "name": "python3"
  },
  "language_info": {
   "codemirror_mode": {
    "name": "ipython",
    "version": 3
   },
   "file_extension": ".py",
   "mimetype": "text/x-python",
   "name": "python",
   "nbconvert_exporter": "python",
   "pygments_lexer": "ipython3",
   "version": "3.9"
  },
  "orig_nbformat": 4,
  "vscode": {
   "interpreter": {
    "hash": "64b3b38b24ae9e1118ff40b6c3637fc16a54aed00e4869a98dc863e7d1c0680a"
   }
  }
 },
 "nbformat": 4,
 "nbformat_minor": 2
}
