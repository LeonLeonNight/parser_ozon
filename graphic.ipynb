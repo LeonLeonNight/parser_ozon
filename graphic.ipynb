{
 "cells": [
  {
   "cell_type": "code",
   "execution_count": null,
   "metadata": {},
   "outputs": [],
   "source": [
    "import pandas as pnd\n",
    "import math\n",
    "df = pnd.read_csv('C://Users//User//Desktop//py11//py//csv//csv_items_11-18-2022.csv')\n",
    "\n",
    "price_description_group=df.groupby(['priceOriginal', 'description']).agg('count')"
   ]
  }
 ],
 "metadata": {
  "kernelspec": {
   "display_name": "Python 3.9.13 64-bit (microsoft store)",
   "language": "python",
   "name": "python3"
  },
  "language_info": {
   "codemirror_mode": {
    "name": "ipython",
    "version": 3
   },
   "file_extension": ".py",
   "mimetype": "text/x-python",
   "name": "python",
   "nbconvert_exporter": "python",
   "pygments_lexer": "ipython3",
   "version": "3.9.13"
  },
  "orig_nbformat": 4,
  "vscode": {
   "interpreter": {
    "hash": "64b3b38b24ae9e1118ff40b6c3637fc16a54aed00e4869a98dc863e7d1c0680a"
   }
  }
 },
 "nbformat": 4,
 "nbformat_minor": 2
}
